{
 "cells": [
  {
   "cell_type": "code",
   "execution_count": 1,
   "metadata": {
    "collapsed": true
   },
   "outputs": [],
   "source": [
    "import pandas as pd\n",
    "import sklearn as sk\n",
    "import numpy as np\n",
    "import datetime\n",
    "from sklearn.linear_model import Ridge\n",
    "from sklearn.model_selection import train_test_split"
   ]
  },
  {
   "cell_type": "code",
   "execution_count": 2,
   "metadata": {},
   "outputs": [
    {
     "name": "stderr",
     "output_type": "stream",
     "text": [
      "C:\\Users\\Matthias\\Anaconda3\\lib\\site-packages\\numpy\\lib\\arraysetops.py:463: FutureWarning: elementwise comparison failed; returning scalar instead, but in the future will perform elementwise comparison\n",
      "  mask |= (ar1 == a)\n"
     ]
    }
   ],
   "source": [
    "df = pd.read_csv('finalfinalCleaning.gzip',compression='gzip',index_col=0)"
   ]
  },
  {
   "cell_type": "code",
   "execution_count": 3,
   "metadata": {
    "collapsed": true
   },
   "outputs": [],
   "source": [
    "def parseAsTime(row):\n",
    "    row.departure_schedule = datetime.datetime.strptime(row.departure_schedule,\"%H:%M:%S\").time()\n",
    "    row.departure_actual = datetime.datetime.strptime(row.departure_actual,\"%H:%M:%S\").time()\n",
    "    row.arrival_schedule = datetime.datetime.strptime(row.arrival_schedule,\"%H:%M:%S\").time()\n",
    "    row.arrival_actual = datetime.datetime.strptime(row.arrival_actual,\"%H:%M:%S\").time()\n",
    "    return row"
   ]
  },
  {
   "cell_type": "code",
   "execution_count": 4,
   "metadata": {
    "collapsed": true,
    "scrolled": true
   },
   "outputs": [],
   "source": [
    "df_ml = df.loc[0:9999].apply(parseAsTime,axis=1)\n",
    "#df_ml = df.apply(parseAsTime,axis=1)"
   ]
  },
  {
   "cell_type": "code",
   "execution_count": 5,
   "metadata": {
    "collapsed": true
   },
   "outputs": [],
   "source": [
    "df_ml[\"flight_duration\"] = np.nan\n",
    "def addFlightDuration(row):\n",
    "    now = datetime.datetime.now()\n",
    "    row.flight_duration = datetime.datetime.combine(now, row.arrival_schedule) - datetime.datetime.combine(datetime.date.min, row.departure_schedule)\n",
    "    row.flight_duration = (datetime.datetime.min + row.flight_duration).time()\n",
    "    return row"
   ]
  },
  {
   "cell_type": "code",
   "execution_count": 6,
   "metadata": {
    "collapsed": true
   },
   "outputs": [],
   "source": [
    "df_ml = df_ml.apply(addFlightDuration, axis=1)"
   ]
  },
  {
   "cell_type": "code",
   "execution_count": 7,
   "metadata": {
    "collapsed": true
   },
   "outputs": [],
   "source": [
    "def parseAsInt(row):\n",
    "    row.departure_schedule = row.departure_schedule.minute + (row.departure_schedule.hour*60)\n",
    "    row.arrival_schedule = row.arrival_schedule.minute + (row.arrival_schedule.hour*60)\n",
    "    row.flight_duration = row.flight_duration.minute + (row.flight_duration.hour*60)\n",
    "    return row"
   ]
  },
  {
   "cell_type": "code",
   "execution_count": 8,
   "metadata": {
    "collapsed": true
   },
   "outputs": [],
   "source": [
    "df_ml = df_ml.apply(parseAsInt, axis=1)"
   ]
  },
  {
   "cell_type": "code",
   "execution_count": 9,
   "metadata": {
    "collapsed": true
   },
   "outputs": [],
   "source": [
    "if(type(df_ml.date[0]) == str):\n",
    "    df_ml.date = pd.to_datetime(df_ml.date)"
   ]
  },
  {
   "cell_type": "code",
   "execution_count": 10,
   "metadata": {
    "collapsed": true
   },
   "outputs": [],
   "source": [
    "df_ml[\"month\"] = np.nan\n",
    "def addMonth(row):\n",
    "    row.month = row.date.month\n",
    "    return row"
   ]
  },
  {
   "cell_type": "code",
   "execution_count": 11,
   "metadata": {
    "collapsed": true
   },
   "outputs": [],
   "source": [
    "df_ml = df_ml.apply(addMonth, axis=1)"
   ]
  },
  {
   "cell_type": "code",
   "execution_count": 12,
   "metadata": {
    "collapsed": true
   },
   "outputs": [],
   "source": [
    "df_ml[\"day\"] = np.nan\n",
    "def addDay(row):\n",
    "    row.day = row.date.day\n",
    "    return row"
   ]
  },
  {
   "cell_type": "code",
   "execution_count": 13,
   "metadata": {
    "collapsed": true
   },
   "outputs": [],
   "source": [
    "df_ml = df_ml.apply(addDay, axis=1)"
   ]
  },
  {
   "cell_type": "code",
   "execution_count": 14,
   "metadata": {
    "collapsed": true
   },
   "outputs": [],
   "source": [
    "df_ml[\"year\"] = np.nan\n",
    "def addYear(row):\n",
    "    row.year = row.date.year\n",
    "    return row"
   ]
  },
  {
   "cell_type": "code",
   "execution_count": 15,
   "metadata": {
    "collapsed": true
   },
   "outputs": [],
   "source": [
    "df_ml = df_ml.apply(addYear, axis=1)"
   ]
  },
  {
   "cell_type": "code",
   "execution_count": 16,
   "metadata": {
    "collapsed": true
   },
   "outputs": [],
   "source": [
    "df_ml.date = df_ml.date.map(datetime.datetime.toordinal)"
   ]
  },
  {
   "cell_type": "code",
   "execution_count": 17,
   "metadata": {
    "collapsed": true
   },
   "outputs": [],
   "source": [
    "def meanPerAirport(group):\n",
    "    return {'mean': round(group.mean(),2)}\n",
    "\n",
    "airportMean = df.departure_delay.groupby(df_ml.departure_airport).apply(meanPerAirport).unstack()"
   ]
  },
  {
   "cell_type": "code",
   "execution_count": 18,
   "metadata": {
    "collapsed": true
   },
   "outputs": [],
   "source": [
    "df_ml[\"airport_mean\"] = np.nan\n",
    "def addAveragePerAirport(row):\n",
    "    row[\"airport_mean\"] = airportMean.loc[row.departure_airport].loc[\"mean\"]\n",
    "    return row"
   ]
  },
  {
   "cell_type": "code",
   "execution_count": 19,
   "metadata": {
    "collapsed": true
   },
   "outputs": [],
   "source": [
    "df_ml = df_ml.apply(addAveragePerAirport,axis=1)"
   ]
  },
  {
   "cell_type": "code",
   "execution_count": 20,
   "metadata": {
    "collapsed": true
   },
   "outputs": [],
   "source": [
    "def meanPerAirline(group):\n",
    "    return {'mean': round(group.mean(),2)}\n",
    "\n",
    "airlineMean = df.departure_delay.groupby(df_ml.airline).apply(meanPerAirline).unstack()"
   ]
  },
  {
   "cell_type": "code",
   "execution_count": 21,
   "metadata": {
    "collapsed": true
   },
   "outputs": [],
   "source": [
    "df_ml[\"airline_mean\"] = np.nan\n",
    "def addAveragePerAirline(row):\n",
    "    row[\"airline_mean\"] = airlineMean.loc[row.airline].loc[\"mean\"]\n",
    "    return row"
   ]
  },
  {
   "cell_type": "code",
   "execution_count": 22,
   "metadata": {
    "collapsed": true
   },
   "outputs": [],
   "source": [
    "df_ml = df_ml.apply(addAveragePerAirline,axis=1)"
   ]
  },
  {
   "cell_type": "code",
   "execution_count": 23,
   "metadata": {
    "collapsed": true
   },
   "outputs": [],
   "source": [
    "def doRidge(alphaParam, errorMargin):\n",
    "    x = df_ml_input.drop(\"departure_delay\",axis=1).values\n",
    "    y = df_ml_input.departure_delay.values\n",
    "    x_train, x_test, y_train, y_test = train_test_split(x,y,test_size = 0.3, random_state = 1)\n",
    "    ridge = Ridge(alpha = alphaParam, normalize=True)\n",
    "    ridge.fit(x_train, y_train)\n",
    "    pred = ridge.predict(x_test)\n",
    "    correct = 0\n",
    "    incorrect = 0\n",
    "    maximum = len(y_test) - 1\n",
    "    \n",
    "    for i in range(0,maximum):\n",
    "        if(abs(pred[i]-y_test[i])<errorMargin):\n",
    "            correct += 1\n",
    "        else:\n",
    "            incorrect += 1\n",
    "    \n",
    "    return correct/maximum\n",
    " "
   ]
  },
  {
   "cell_type": "code",
   "execution_count": 56,
   "metadata": {},
   "outputs": [
    {
     "name": "stdout",
     "output_type": "stream",
     "text": [
      "<class 'pandas.core.frame.DataFrame'>\n",
      "Int64Index: 10000 entries, 0 to 9999\n",
      "Data columns (total 95 columns):\n",
      "date                     10000 non-null int64\n",
      "airline_code             10000 non-null int64\n",
      "departure_schedule       10000 non-null int64\n",
      "departure_delay          10000 non-null int64\n",
      "arrival_schedule         10000 non-null int64\n",
      "flight_duration          10000 non-null int64\n",
      "month                    10000 non-null int64\n",
      "day                      10000 non-null int64\n",
      "year                     10000 non-null int64\n",
      "airport_mean             10000 non-null float64\n",
      "airline_mean             10000 non-null float64\n",
      "airline_AS               10000 non-null uint8\n",
      "airline_B6               10000 non-null uint8\n",
      "airline_CO               10000 non-null uint8\n",
      "airline_DL               10000 non-null uint8\n",
      "airline_EV               10000 non-null uint8\n",
      "airline_F9               10000 non-null uint8\n",
      "airline_FL               10000 non-null uint8\n",
      "airline_HA               10000 non-null uint8\n",
      "airline_MQ               10000 non-null uint8\n",
      "airline_OO               10000 non-null uint8\n",
      "airline_UA               10000 non-null uint8\n",
      "airline_US               10000 non-null uint8\n",
      "airline_WN               10000 non-null uint8\n",
      "airline_YV               10000 non-null uint8\n",
      "departure_airport_BNA    10000 non-null uint8\n",
      "departure_airport_BWI    10000 non-null uint8\n",
      "departure_airport_CLT    10000 non-null uint8\n",
      "departure_airport_COS    10000 non-null uint8\n",
      "departure_airport_DCA    10000 non-null uint8\n",
      "departure_airport_DEN    10000 non-null uint8\n",
      "departure_airport_DFW    10000 non-null uint8\n",
      "departure_airport_DTW    10000 non-null uint8\n",
      "departure_airport_EUG    10000 non-null uint8\n",
      "departure_airport_EWR    10000 non-null uint8\n",
      "departure_airport_GCC    10000 non-null uint8\n",
      "departure_airport_GSO    10000 non-null uint8\n",
      "departure_airport_IAH    10000 non-null uint8\n",
      "departure_airport_JFK    10000 non-null uint8\n",
      "departure_airport_LAS    10000 non-null uint8\n",
      "departure_airport_LAX    10000 non-null uint8\n",
      "departure_airport_LGA    10000 non-null uint8\n",
      "departure_airport_MCO    10000 non-null uint8\n",
      "departure_airport_MDW    10000 non-null uint8\n",
      "departure_airport_MSP    10000 non-null uint8\n",
      "departure_airport_MSY    10000 non-null uint8\n",
      "departure_airport_OAK    10000 non-null uint8\n",
      "departure_airport_OGG    10000 non-null uint8\n",
      "departure_airport_ORD    10000 non-null uint8\n",
      "departure_airport_OTH    10000 non-null uint8\n",
      "departure_airport_PHX    10000 non-null uint8\n",
      "departure_airport_PIT    10000 non-null uint8\n",
      "departure_airport_PSP    10000 non-null uint8\n",
      "departure_airport_PWM    10000 non-null uint8\n",
      "departure_airport_RDU    10000 non-null uint8\n",
      "departure_airport_RSW    10000 non-null uint8\n",
      "departure_airport_SAN    10000 non-null uint8\n",
      "departure_airport_SEA    10000 non-null uint8\n",
      "departure_airport_SLC    10000 non-null uint8\n",
      "departure_airport_STL    10000 non-null uint8\n",
      "departure_airport_TPA    10000 non-null uint8\n",
      "departure_state_CA       10000 non-null uint8\n",
      "departure_state_CO       10000 non-null uint8\n",
      "departure_state_FL       10000 non-null uint8\n",
      "departure_state_GA       10000 non-null uint8\n",
      "departure_state_HI       10000 non-null uint8\n",
      "departure_state_IL       10000 non-null uint8\n",
      "departure_state_LA       10000 non-null uint8\n",
      "departure_state_MD       10000 non-null uint8\n",
      "departure_state_ME       10000 non-null uint8\n",
      "departure_state_MI       10000 non-null uint8\n",
      "departure_state_MN       10000 non-null uint8\n",
      "departure_state_MO       10000 non-null uint8\n",
      "departure_state_NC       10000 non-null uint8\n",
      "departure_state_NJ       10000 non-null uint8\n",
      "departure_state_NV       10000 non-null uint8\n",
      "departure_state_NY       10000 non-null uint8\n",
      "departure_state_OR       10000 non-null uint8\n",
      "departure_state_PA       10000 non-null uint8\n",
      "departure_state_TN       10000 non-null uint8\n",
      "departure_state_TX       10000 non-null uint8\n",
      "departure_state_UT       10000 non-null uint8\n",
      "departure_state_VA       10000 non-null uint8\n",
      "departure_state_WA       10000 non-null uint8\n",
      "departure_state_WY       10000 non-null uint8\n",
      "arrival_airport_PHL      10000 non-null uint8\n",
      "arrival_airport_PSE      10000 non-null uint8\n",
      "arrival_airport_RFD      10000 non-null uint8\n",
      "arrival_airport_RKS      10000 non-null uint8\n",
      "arrival_airport_ROW      10000 non-null uint8\n",
      "arrival_state_NM         10000 non-null uint8\n",
      "arrival_state_OR         10000 non-null uint8\n",
      "arrival_state_PA         10000 non-null uint8\n",
      "arrival_state_PR         10000 non-null uint8\n",
      "arrival_state_WY         10000 non-null uint8\n",
      "dtypes: float64(2), int64(9), uint8(84)\n",
      "memory usage: 2.0 MB\n"
     ]
    }
   ],
   "source": [
    "#df_ml_input = df_ml.loc[:,[\"airline_mean\",\"airport_mean\",\"date\",\"year\",\"month\",\"day\",\"departure_schedule\",\"arrival_schedule\",\"departure_delay\"]]\n",
    "df_ml_input = df_ml.drop([\"arrival_delay\", \"arrival_lon\", \"arrival_lat\", \"departure_lon\", \"departure_lat\", \"arrival_actual\",\"departure_actual\"],axis=1)\n",
    "\n",
    "df_ml_input = pd.get_dummies(df_ml_input, drop_first=True)\n",
    "\n",
    "df_ml_input.info()"
   ]
  },
  {
   "cell_type": "code",
   "execution_count": 57,
   "metadata": {
    "collapsed": true
   },
   "outputs": [],
   "source": [
    "#df_ml_input = df_ml.drop([\"arrival_delay\", \"arrival_lon\", \"arrival_lat\", \"departure_lon\", \"departure_lat\", \"arrival_state\", \"departure_state\",\"departure_airport\", \"airline\",\"airline_code\", \"arrival_airport\", \"arrival_actual\",\"departure_actual\",\"flight_duration\"],axis=1)\n",
    "#df_ml_input = pd.get_dummies(df_ml_input, drop_first=True)\n",
    "\n",
    "#df_ml_input.info()"
   ]
  },
  {
   "cell_type": "code",
   "execution_count": 58,
   "metadata": {},
   "outputs": [
    {
     "data": {
      "text/plain": [
       "0.5065021673891297"
      ]
     },
     "execution_count": 58,
     "metadata": {},
     "output_type": "execute_result"
    }
   ],
   "source": [
    "#0.5065021673891297 at 10000 rows\n",
    "#0.8558093015502584 at 20000 rows\n",
    "doRidge(0,10)"
   ]
  },
  {
   "cell_type": "code",
   "execution_count": 61,
   "metadata": {
    "scrolled": false
   },
   "outputs": [
    {
     "name": "stdout",
     "output_type": "stream",
     "text": [
      "4.97 % is predicted correctly with an error margin of 1 minutes\n",
      "9.3 % is predicted correctly with an error margin of 2 minutes\n",
      "13.9 % is predicted correctly with an error margin of 3 minutes\n",
      "18.74 % is predicted correctly with an error margin of 4 minutes\n",
      "23.74 % is predicted correctly with an error margin of 5 minutes\n",
      "29.21 % is predicted correctly with an error margin of 6 minutes\n",
      "35.01 % is predicted correctly with an error margin of 7 minutes\n",
      "40.35 % is predicted correctly with an error margin of 8 minutes\n",
      "45.82 % is predicted correctly with an error margin of 9 minutes\n",
      "50.65 % is predicted correctly with an error margin of 10 minutes\n",
      "55.52 % is predicted correctly with an error margin of 11 minutes\n",
      "60.15 % is predicted correctly with an error margin of 12 minutes\n",
      "65.19 % is predicted correctly with an error margin of 13 minutes\n",
      "69.66 % is predicted correctly with an error margin of 14 minutes\n",
      "73.79 % is predicted correctly with an error margin of 15 minutes\n",
      "77.29 % is predicted correctly with an error margin of 16 minutes\n",
      "80.43 % is predicted correctly with an error margin of 17 minutes\n",
      "82.79 % is predicted correctly with an error margin of 18 minutes\n",
      "84.79 % is predicted correctly with an error margin of 19 minutes\n",
      "86.5 % is predicted correctly with an error margin of 20 minutes\n"
     ]
    }
   ],
   "source": [
    "for error in range(1,21):\n",
    "    scoreArr = []\n",
    "    for a in (0,.1,.2,.3,.4,.5):\n",
    "        scoreArr.append(doRidge(a,error))\n",
    "    print(round(max(scoreArr)*100,2),\"%\", \"is predicted correctly with an error margin of\", error, \"minutes\")\n",
    "    #print(\"ridge \\n\",max(scoreArr),\"\\n\", \"alpha:\", scoreArr.index(max(scoreArr)),\"\\n\", \"errorMargin:\", error, \"\\n\", round(max(scoreArr)*100,2),\"%\")"
   ]
  },
  {
   "cell_type": "code",
   "execution_count": null,
   "metadata": {
    "collapsed": true
   },
   "outputs": [],
   "source": []
  }
 ],
 "metadata": {
  "kernelspec": {
   "display_name": "Python 3",
   "language": "python",
   "name": "python3"
  },
  "language_info": {
   "codemirror_mode": {
    "name": "ipython",
    "version": 3
   },
   "file_extension": ".py",
   "mimetype": "text/x-python",
   "name": "python",
   "nbconvert_exporter": "python",
   "pygments_lexer": "ipython3",
   "version": "3.6.2"
  }
 },
 "nbformat": 4,
 "nbformat_minor": 2
}
