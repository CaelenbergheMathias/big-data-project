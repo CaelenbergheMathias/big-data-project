{
 "cells": [
  {
   "cell_type": "code",
   "execution_count": 852,
   "metadata": {
    "collapsed": true
   },
   "outputs": [],
   "source": [
    "import pandas as pd\n",
    "import sklearn as sk\n",
    "import numpy as np\n",
    "import datetime\n",
    "from sklearn.linear_model import Ridge\n",
    "from sklearn.model_selection import train_test_split"
   ]
  },
  {
   "cell_type": "code",
   "execution_count": 853,
   "metadata": {},
   "outputs": [
    {
     "name": "stderr",
     "output_type": "stream",
     "text": [
      "C:\\Users\\Matthias\\Anaconda3\\lib\\site-packages\\numpy\\lib\\arraysetops.py:463: FutureWarning: elementwise comparison failed; returning scalar instead, but in the future will perform elementwise comparison\n",
      "  mask |= (ar1 == a)\n"
     ]
    }
   ],
   "source": [
    "df = pd.read_csv('finalfinalCleaning.gzip',compression='gzip',index_col=0)"
   ]
  },
  {
   "cell_type": "code",
   "execution_count": 854,
   "metadata": {
    "collapsed": true
   },
   "outputs": [],
   "source": [
    "def parseAsTime(row):\n",
    "    row.departure_schedule = datetime.datetime.strptime(row.departure_schedule,\"%H:%M:%S\").time()\n",
    "    row.departure_actual = datetime.datetime.strptime(row.departure_actual,\"%H:%M:%S\").time()\n",
    "    row.arrival_schedule = datetime.datetime.strptime(row.arrival_schedule,\"%H:%M:%S\").time()\n",
    "    row.arrival_actual = datetime.datetime.strptime(row.arrival_actual,\"%H:%M:%S\").time()\n",
    "    return row"
   ]
  },
  {
   "cell_type": "code",
   "execution_count": 855,
   "metadata": {
    "scrolled": true
   },
   "outputs": [],
   "source": [
    "df_ml = df.loc[0:9999].apply(parseAsTime,axis=1)\n",
    "#df_ml = df.apply(parseAsTime,axis=1)"
   ]
  },
  {
   "cell_type": "code",
   "execution_count": 856,
   "metadata": {
    "collapsed": true
   },
   "outputs": [],
   "source": [
    "df_ml[\"flight_duration\"] = np.nan\n",
    "def addFlightDuration(row):\n",
    "    now = datetime.datetime.now()\n",
    "    row.flight_duration = datetime.datetime.combine(now, row.arrival_schedule) - datetime.datetime.combine(datetime.date.min, row.departure_schedule)\n",
    "    row.flight_duration = (datetime.datetime.min + row.flight_duration).time()\n",
    "    return row"
   ]
  },
  {
   "cell_type": "code",
   "execution_count": 857,
   "metadata": {
    "collapsed": true
   },
   "outputs": [],
   "source": [
    "df_ml = df_ml.apply(addFlightDuration, axis=1)"
   ]
  },
  {
   "cell_type": "code",
   "execution_count": 858,
   "metadata": {
    "collapsed": true
   },
   "outputs": [],
   "source": [
    "def parseAsInt(row):\n",
    "    row.departure_schedule = row.departure_schedule.minute + (row.departure_schedule.hour*60)\n",
    "    row.arrival_schedule = row.arrival_schedule.minute + (row.arrival_schedule.hour*60)\n",
    "    row.flight_duration = row.flight_duration.minute + (row.flight_duration.hour*60)\n",
    "    return row"
   ]
  },
  {
   "cell_type": "code",
   "execution_count": 859,
   "metadata": {
    "collapsed": true
   },
   "outputs": [],
   "source": [
    "df_ml = df_ml.apply(parseAsInt, axis=1)"
   ]
  },
  {
   "cell_type": "code",
   "execution_count": 860,
   "metadata": {
    "collapsed": true
   },
   "outputs": [],
   "source": [
    "if(type(df_ml.date[0]) == str):\n",
    "    df_ml.date = pd.to_datetime(df_ml.date)"
   ]
  },
  {
   "cell_type": "code",
   "execution_count": 861,
   "metadata": {
    "collapsed": true
   },
   "outputs": [],
   "source": [
    "df_ml[\"month\"] = np.nan\n",
    "def addMonth(row):\n",
    "    row.month = row.date.month\n",
    "    return row"
   ]
  },
  {
   "cell_type": "code",
   "execution_count": 862,
   "metadata": {
    "collapsed": true
   },
   "outputs": [],
   "source": [
    "df_ml = df_ml.apply(addMonth, axis=1)"
   ]
  },
  {
   "cell_type": "code",
   "execution_count": 863,
   "metadata": {
    "collapsed": true
   },
   "outputs": [],
   "source": [
    "df_ml[\"day\"] = np.nan\n",
    "def addDay(row):\n",
    "    row.day = row.date.day\n",
    "    return row"
   ]
  },
  {
   "cell_type": "code",
   "execution_count": 864,
   "metadata": {},
   "outputs": [],
   "source": [
    "df_ml = df_ml.apply(addDay, axis=1)"
   ]
  },
  {
   "cell_type": "code",
   "execution_count": 865,
   "metadata": {
    "collapsed": true
   },
   "outputs": [],
   "source": [
    "df_ml[\"year\"] = np.nan\n",
    "def addYear(row):\n",
    "    row.year = row.date.year\n",
    "    return row"
   ]
  },
  {
   "cell_type": "code",
   "execution_count": 866,
   "metadata": {
    "collapsed": true
   },
   "outputs": [],
   "source": [
    "df_ml = df_ml.apply(addYear, axis=1)"
   ]
  },
  {
   "cell_type": "code",
   "execution_count": 867,
   "metadata": {
    "collapsed": true
   },
   "outputs": [],
   "source": [
    "df_ml.date = df_ml.date.map(datetime.datetime.toordinal)"
   ]
  },
  {
   "cell_type": "code",
   "execution_count": 868,
   "metadata": {},
   "outputs": [],
   "source": [
    "def meanPerAirport(group):\n",
    "    return {'mean': round(group.mean(),2)}\n",
    "\n",
    "airportMean = df.departure_delay.groupby(df_ml.departure_airport).apply(meanPerAirport).unstack()"
   ]
  },
  {
   "cell_type": "code",
   "execution_count": 869,
   "metadata": {},
   "outputs": [],
   "source": [
    "df_ml[\"airport_mean\"] = np.nan\n",
    "def addAveragePerAirport(row):\n",
    "    row[\"airport_mean\"] = airportMean.loc[row.departure_airport].loc[\"mean\"]\n",
    "    return row"
   ]
  },
  {
   "cell_type": "code",
   "execution_count": 870,
   "metadata": {},
   "outputs": [],
   "source": [
    "df_ml = df_ml.apply(addAveragePerAirport,axis=1)"
   ]
  },
  {
   "cell_type": "code",
   "execution_count": 871,
   "metadata": {
    "collapsed": true
   },
   "outputs": [],
   "source": [
    "def meanPerAirline(group):\n",
    "    return {'mean': round(group.mean(),2)}\n",
    "\n",
    "airlineMean = df.departure_delay.groupby(df_ml.airline).apply(meanPerAirline).unstack()"
   ]
  },
  {
   "cell_type": "code",
   "execution_count": 872,
   "metadata": {
    "collapsed": true
   },
   "outputs": [],
   "source": [
    "df_ml[\"airline_mean\"] = np.nan\n",
    "def addAveragePerAirline(row):\n",
    "    row[\"airline_mean\"] = airlineMean.loc[row.airline].loc[\"mean\"]\n",
    "    return row"
   ]
  },
  {
   "cell_type": "code",
   "execution_count": 873,
   "metadata": {
    "collapsed": true
   },
   "outputs": [],
   "source": [
    "df_ml = df_ml.apply(addAveragePerAirline,axis=1)"
   ]
  },
  {
   "cell_type": "code",
   "execution_count": 874,
   "metadata": {},
   "outputs": [],
   "source": [
    "def doRidge(alphaParam, errorMargin):\n",
    "    x = df_ml_input.drop(\"departure_delay\",axis=1).values\n",
    "    y = df_ml_input.departure_delay.values\n",
    "    x_train, x_test, y_train, y_test = train_test_split(x,y,test_size = 0.3, random_state = 1)\n",
    "    ridge = Ridge(alpha = alphaParam, normalize=True)\n",
    "    ridge.fit(x_train, y_train)\n",
    "    pred = ridge.predict(x_test)\n",
    "    correct = 0\n",
    "    incorrect = 0\n",
    "    maximum = len(y_test) - 1\n",
    "    \n",
    "    for i in range(0,maximum):\n",
    "        if(abs(abs(pred[i])-abs(y_test[i]))<errorMargin):\n",
    "            correct += 1\n",
    "        else:\n",
    "            incorrect += 1\n",
    "    \n",
    "    return correct/maximum\n",
    " "
   ]
  },
  {
   "cell_type": "code",
   "execution_count": 875,
   "metadata": {},
   "outputs": [
    {
     "name": "stdout",
     "output_type": "stream",
     "text": [
      "<class 'pandas.core.frame.DataFrame'>\n",
      "Int64Index: 10000 entries, 0 to 9999\n",
      "Data columns (total 9 columns):\n",
      "airline_mean          10000 non-null float64\n",
      "airport_mean          10000 non-null float64\n",
      "date                  10000 non-null int64\n",
      "year                  10000 non-null int64\n",
      "month                 10000 non-null int64\n",
      "day                   10000 non-null int64\n",
      "departure_schedule    10000 non-null int64\n",
      "arrival_schedule      10000 non-null int64\n",
      "departure_delay       10000 non-null int64\n",
      "dtypes: float64(2), int64(7)\n",
      "memory usage: 781.2 KB\n"
     ]
    }
   ],
   "source": [
    "df_ml_input = df_ml.loc[:,[\"airline_mean\",\"airport_mean\",\"date\",\"year\",\"month\",\"day\",\"departure_schedule\",\"arrival_schedule\",\"departure_delay\"]]\n",
    "df_ml_input = pd.get_dummies(df_ml_input, drop_first=True)\n",
    "\n",
    "df_ml_input.info()"
   ]
  },
  {
   "cell_type": "code",
   "execution_count": 876,
   "metadata": {},
   "outputs": [],
   "source": [
    "#df_ml_input = df_ml.drop([\"arrival_delay\", \"arrival_lon\", \"arrival_lat\", \"departure_lon\", \"departure_lat\", \"arrival_state\", \"departure_state\",\"departure_airport\", \"airline\",\"airline_code\", \"arrival_airport\", \"arrival_actual\",\"departure_actual\",\"flight_duration\"],axis=1)\n",
    "#df_ml_input = pd.get_dummies(df_ml_input, drop_first=True)\n",
    "\n",
    "#df_ml_input.info()"
   ]
  },
  {
   "cell_type": "code",
   "execution_count": 877,
   "metadata": {},
   "outputs": [
    {
     "data": {
      "text/plain": [
       "0.8486162054018006"
      ]
     },
     "execution_count": 877,
     "metadata": {},
     "output_type": "execute_result"
    }
   ],
   "source": [
    "#0.8486162054018006 at 10000 rows\n",
    "#0.8558093015502584 at 20000 rows\n",
    "doRidge(7,10)"
   ]
  },
  {
   "cell_type": "code",
   "execution_count": 878,
   "metadata": {
    "scrolled": false
   },
   "outputs": [
    {
     "name": "stdout",
     "output_type": "stream",
     "text": [
      "11.07 % is predicted correctly with an error margin of 1 minutes\n",
      "21.57 % is predicted correctly with an error margin of 2 minutes\n",
      "32.81 % is predicted correctly with an error margin of 3 minutes\n",
      "43.61 % is predicted correctly with an error margin of 4 minutes\n",
      "54.32 % is predicted correctly with an error margin of 5 minutes\n",
      "65.39 % is predicted correctly with an error margin of 6 minutes\n",
      "75.99 % is predicted correctly with an error margin of 7 minutes\n",
      "83.33 % is predicted correctly with an error margin of 8 minutes\n",
      "84.09 % is predicted correctly with an error margin of 9 minutes\n",
      "84.86 % is predicted correctly with an error margin of 10 minutes\n"
     ]
    }
   ],
   "source": [
    "for error in range(1,11):\n",
    "    scoreArr = []\n",
    "    for a in range(0,100):\n",
    "        scoreArr.append(doRidge(a,error))\n",
    "    print(round(max(scoreArr)*100,2),\"%\", \"is predicted correctly with an error margin of\", error, \"minutes\")\n",
    "    #print(\"ridge \\n\",max(scoreArr),\"\\n\", \"alpha:\", scoreArr.index(max(scoreArr)),\"\\n\", \"errorMargin:\", error, \"\\n\", round(max(scoreArr)*100,2),\"%\")"
   ]
  },
  {
   "cell_type": "code",
   "execution_count": null,
   "metadata": {
    "collapsed": true
   },
   "outputs": [],
   "source": []
  }
 ],
 "metadata": {
  "kernelspec": {
   "display_name": "Python 3",
   "language": "python",
   "name": "python3"
  },
  "language_info": {
   "codemirror_mode": {
    "name": "ipython",
    "version": 3
   },
   "file_extension": ".py",
   "mimetype": "text/x-python",
   "name": "python",
   "nbconvert_exporter": "python",
   "pygments_lexer": "ipython3",
   "version": "3.6.2"
  }
 },
 "nbformat": 4,
 "nbformat_minor": 2
}
