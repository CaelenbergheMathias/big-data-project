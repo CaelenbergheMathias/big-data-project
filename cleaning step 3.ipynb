{
 "cells": [
  {
   "cell_type": "code",
   "execution_count": 1,
   "metadata": {
    "collapsed": true
   },
   "outputs": [],
   "source": [
    "import pandas as pd\n",
    "import numpy as np\n",
    "import matplotlib.pyplot as plt\n",
    "import datetime\n",
    "import time\n",
    "import math"
   ]
  },
  {
   "cell_type": "code",
   "execution_count": 2,
   "metadata": {},
   "outputs": [
    {
     "name": "stderr",
     "output_type": "stream",
     "text": [
      "C:\\Users\\Matthias\\Anaconda3\\lib\\site-packages\\numpy\\lib\\arraysetops.py:463: FutureWarning: elementwise comparison failed; returning scalar instead, but in the future will perform elementwise comparison\n",
      "  mask |= (ar1 == a)\n"
     ]
    }
   ],
   "source": [
    "df = pd.read_csv('cleaningStep2.gzip',compression='gzip',parse_dates=[1,18,19,20,21],index_col=0,infer_datetime_format=True)\n",
    "#df = df.reset_index()"
   ]
  },
  {
   "cell_type": "code",
   "execution_count": 4,
   "metadata": {
    "collapsed": true
   },
   "outputs": [
    {
     "name": "stdout",
     "output_type": "stream",
     "text": [
      "<class 'pandas.core.frame.DataFrame'>\n",
      "Int64Index: 10751921 entries, 0 to 10751920\n",
      "Data columns (total 21 columns):\n",
      "date                           datetime64[ns]\n",
      "airline                        object\n",
      "airline_code                   int64\n",
      "departure_airport              object\n",
      "departure_state                object\n",
      "departure_lat                  float64\n",
      "departure_lon                  float64\n",
      "arrival_airport                object\n",
      "arrival_state                  object\n",
      "arrival_lat                    float64\n",
      "arrival_lon                    float64\n",
      "departure_schedule             float64\n",
      "departure_actual               int64\n",
      "departure_delay                int64\n",
      "arrival_schedule               float64\n",
      "arrival_actual                 int64\n",
      "arrival_delay                  int64\n",
      "departure_actual_datetime      datetime64[ns]\n",
      "departure_schedule_datetime    datetime64[ns]\n",
      "arrival_actual_datetime        datetime64[ns]\n",
      "arrival_schedule_datetime      datetime64[ns]\n",
      "dtypes: datetime64[ns](5), float64(6), int64(5), object(5)\n",
      "memory usage: 1.8+ GB\n"
     ]
    }
   ],
   "source": [
    "df.info()"
   ]
  },
  {
   "cell_type": "code",
   "execution_count": 5,
   "metadata": {
    "collapsed": true
   },
   "outputs": [],
   "source": [
    "def fixRows(row):\n",
    "    row['arrival_actual'] = row[\"arrival_actual_datetime\"].time()\n",
    "    row['departure_actual'] = row[\"departure_actual_datetime\"].time()\n",
    "    row[\"arrival_schedule\"] = row[\"arrival_schedule_datetime\"].time()\n",
    "    row[\"departure_schedule\"] = row[\"departure_schedule_datetime\"].time()\n",
    "    row[\"date\"] = row[\"date\"].date()\n",
    "    return row"
   ]
  },
  {
   "cell_type": "code",
   "execution_count": 6,
   "metadata": {
    "collapsed": true
   },
   "outputs": [],
   "source": [
    "df = df.apply(fixRows,axis=1)"
   ]
  },
  {
   "cell_type": "code",
   "execution_count": 7,
   "metadata": {
    "collapsed": true
   },
   "outputs": [],
   "source": [
    "df = df.drop(['arrival_actual_datetime','departure_actual_datetime','arrival_schedule_datetime','departure_schedule_datetime'],axis=1)"
   ]
  },
  {
   "cell_type": "code",
   "execution_count": 8,
   "metadata": {
    "scrolled": true
   },
   "outputs": [
    {
     "name": "stdout",
     "output_type": "stream",
     "text": [
      "date clean? : \n",
      "airline clean? : \n",
      "airline_code clean? : \n",
      "departure_airport clean? : \n",
      "departure_state clean? : \n",
      "departure_lat clean? : \n",
      "departure_lon clean? : \n",
      "arrival_airport clean? : \n",
      "arrival_state clean? : \n",
      "arrival_lat clean? : \n",
      "arrival_lon clean? : \n",
      "departure_schedule clean? : \n",
      "departure_actual clean? : \n",
      "departure_delay clean? : \n",
      "arrival_schedule clean? : \n",
      "arrival_actual clean? : \n",
      "arrival_delay clean? : \n"
     ]
    }
   ],
   "source": [
    "for column in df:\n",
    "    print(column+' clean? : ')\n",
    "    assert pd.notnull(df[column]).all()"
   ]
  },
  {
   "cell_type": "code",
   "execution_count": 9,
   "metadata": {
    "collapsed": true
   },
   "outputs": [],
   "source": [
    "df.to_csv('cleaningStep3.gzip',compression='gzip')"
   ]
  },
  {
   "cell_type": "code",
   "execution_count": null,
   "metadata": {
    "collapsed": true
   },
   "outputs": [],
   "source": []
  }
 ],
 "metadata": {
  "kernelspec": {
   "display_name": "Python 3",
   "language": "python",
   "name": "python3"
  },
  "language_info": {
   "codemirror_mode": {
    "name": "ipython",
    "version": 3
   },
   "file_extension": ".py",
   "mimetype": "text/x-python",
   "name": "python",
   "nbconvert_exporter": "python",
   "pygments_lexer": "ipython3",
   "version": "3.6.2"
  }
 },
 "nbformat": 4,
 "nbformat_minor": 2
}
