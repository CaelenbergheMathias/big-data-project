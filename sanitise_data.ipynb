{
 "cells": [
  {
   "cell_type": "code",
   "execution_count": 87,
   "metadata": {},
   "outputs": [
    {
     "name": "stdout",
     "output_type": "stream",
     "text": [
      "done\n"
     ]
    }
   ],
   "source": [
    "import pandas as pd\n",
    "import numpy as np\n",
    "import matplotlib.pyplot as plt\n",
    "\n",
    "data =  pd.read_csv('combo.gzip',compression='gzip',parse_dates=True,index_col='date')\n",
    "print('done');"
   ]
  },
  {
   "cell_type": "code",
   "execution_count": 88,
   "metadata": {},
   "outputs": [],
   "source": [
    "data.arrival_schedule = data.arrival_schedule.fillna(value=(data.arrival_actual + data.arrival_delay))\n",
    "data.departure_schedule = data.departure_schedule.fillna(value=(data.departure_actual + data.departure_delay))"
   ]
  },
  {
   "cell_type": "code",
   "execution_count": 77,
   "metadata": {},
   "outputs": [],
   "source": [
    "#departure&arrival_schedule are now not null and int32"
   ]
  },
  {
   "cell_type": "code",
   "execution_count": 94,
   "metadata": {},
   "outputs": [
    {
     "name": "stdout",
     "output_type": "stream",
     "text": [
      "airline is clean\n",
      "airline_code is clean\n",
      "departure_airport is clean\n",
      "departure_state is clean\n",
      "departure_lat is clean\n",
      "departure_lon is clean\n",
      "arrival_airport is clean\n",
      "arrival_state is clean\n",
      "arrival_lat is clean\n",
      "arrival_lon is clean\n",
      "departure_schedule is clean\n",
      "departure_actual is clean\n",
      "departure_delay is clean\n",
      "arrival_schedule is clean\n",
      "arrival_actual is clean\n",
      "arrival_delay is clean\n"
     ]
    }
   ],
   "source": [
    "for column in data:\n",
    "    assert pd.notnull(data[column]).all()\n",
    "    print(column+' is clean')"
   ]
  },
  {
   "cell_type": "code",
   "execution_count": 99,
   "metadata": {
    "collapsed": true
   },
   "outputs": [],
   "source": [
    "data['airline_code'] = data['airline_code'].astype(str)\n",
    "data['departure_delay'] = data['departure_delay'].astype(float)\n",
    "data['arrival_delay'] = data['arrival_delay'].astype(float)\n",
    "data['arrival_schedule'] = data['arrival_schedule'].astype(int)\n",
    "data['departure_schedule'] = data['departure_schedule'].astype(int)"
   ]
  },
  {
   "cell_type": "code",
   "execution_count": 107,
   "metadata": {
    "collapsed": true
   },
   "outputs": [],
   "source": [
    "data = data.reset_index()"
   ]
  },
  {
   "cell_type": "code",
   "execution_count": 108,
   "metadata": {},
   "outputs": [
    {
     "name": "stdout",
     "output_type": "stream",
     "text": [
      "<class 'pandas.core.frame.DataFrame'>\n",
      "RangeIndex: 11401196 entries, 0 to 11401195\n",
      "Data columns (total 17 columns):\n",
      "date                  datetime64[ns]\n",
      "airline               object\n",
      "airline_code          object\n",
      "departure_airport     object\n",
      "departure_state       object\n",
      "departure_lat         float64\n",
      "departure_lon         float64\n",
      "arrival_airport       object\n",
      "arrival_state         object\n",
      "arrival_lat           float64\n",
      "arrival_lon           float64\n",
      "departure_schedule    int32\n",
      "departure_actual      int64\n",
      "departure_delay       float64\n",
      "arrival_schedule      int32\n",
      "arrival_actual        int64\n",
      "arrival_delay         float64\n",
      "dtypes: datetime64[ns](1), float64(6), int32(2), int64(2), object(6)\n",
      "memory usage: 1.4+ GB\n"
     ]
    }
   ],
   "source": [
    "data.info()"
   ]
  },
  {
   "cell_type": "code",
   "execution_count": null,
   "metadata": {
    "collapsed": true
   },
   "outputs": [],
   "source": []
  }
 ],
 "metadata": {
  "kernelspec": {
   "display_name": "Python 3",
   "language": "python",
   "name": "python3"
  },
  "language_info": {
   "codemirror_mode": {
    "name": "ipython",
    "version": 3
   },
   "file_extension": ".py",
   "mimetype": "text/x-python",
   "name": "python",
   "nbconvert_exporter": "python",
   "pygments_lexer": "ipython3",
   "version": "3.6.2"
  }
 },
 "nbformat": 4,
 "nbformat_minor": 2
}
