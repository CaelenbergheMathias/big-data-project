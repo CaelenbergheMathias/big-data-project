{
 "cells": [
  {
   "cell_type": "code",
   "execution_count": 5,
   "metadata": {
    "collapsed": true
   },
   "outputs": [],
   "source": [
    "import pandas as pd\n",
    "import sklearn as sk\n",
    "import numpy as np\n",
    "import matplotlib.pyplot as plt\n",
    "import datetime\n",
    "plt.style.use(\"ggplot\")\n",
    "from sklearn.neighbors import KNeighborsClassifier\n",
    "from sklearn.model_selection import train_test_split"
   ]
  },
  {
   "cell_type": "code",
   "execution_count": 6,
   "metadata": {},
   "outputs": [
    {
     "name": "stderr",
     "output_type": "stream",
     "text": [
      "C:\\Users\\Matthias\\Anaconda3\\lib\\site-packages\\numpy\\lib\\arraysetops.py:463: FutureWarning: elementwise comparison failed; returning scalar instead, but in the future will perform elementwise comparison\n",
      "  mask |= (ar1 == a)\n"
     ]
    }
   ],
   "source": [
    "df = pd.read_csv('cleaningStep4.gzip',compression='gzip',index_col=0)"
   ]
  },
  {
   "cell_type": "code",
   "execution_count": 7,
   "metadata": {
    "collapsed": true
   },
   "outputs": [],
   "source": [
    "def parseAsTime(row):\n",
    "    row.departure_schedule = datetime.datetime.strptime(row.departure_schedule,\"%H:%M:%S\").time()\n",
    "    row.departure_actual = datetime.datetime.strptime(row.departure_actual,\"%H:%M:%S\").time()\n",
    "    row.arrival_schedule = datetime.datetime.strptime(row.arrival_schedule,\"%H:%M:%S\").time()\n",
    "    row.arrival_actual = datetime.datetime.strptime(row.arrival_actual,\"%H:%M:%S\").time()\n",
    "    return row"
   ]
  },
  {
   "cell_type": "code",
   "execution_count": 30,
   "metadata": {},
   "outputs": [],
   "source": [
    "df_ml = df.loc[0:9999].apply(parseAsTime,axis=1)"
   ]
  },
  {
   "cell_type": "code",
   "execution_count": 31,
   "metadata": {
    "collapsed": true
   },
   "outputs": [],
   "source": [
    "df_ml[\"flight_duration\"] = np.nan\n",
    "def addFlightDuration(row):\n",
    "    now = datetime.datetime.now()\n",
    "    row.flight_duration = datetime.datetime.combine(now, row.arrival_schedule) - datetime.datetime.combine(datetime.date.min, row.departure_schedule)\n",
    "    row.flight_duration = (datetime.datetime.min + row.flight_duration).time()\n",
    "    return row"
   ]
  },
  {
   "cell_type": "code",
   "execution_count": 32,
   "metadata": {
    "collapsed": true
   },
   "outputs": [],
   "source": [
    "df_ml = df_ml.apply(addFlightDuration, axis=1)"
   ]
  },
  {
   "cell_type": "code",
   "execution_count": 33,
   "metadata": {
    "collapsed": true
   },
   "outputs": [],
   "source": [
    "def parseAsInt(row):\n",
    "    row.departure_schedule = row.departure_schedule.minute + (row.departure_schedule.hour*60)\n",
    "    row.arrival_schedule = row.arrival_schedule.minute + (row.arrival_schedule.hour*60)\n",
    "    row.flight_duration = row.flight_duration.minute + (row.flight_duration.hour*60)\n",
    "    return row"
   ]
  },
  {
   "cell_type": "code",
   "execution_count": 34,
   "metadata": {
    "collapsed": true
   },
   "outputs": [],
   "source": [
    "df_ml = df_ml.apply(parseAsInt, axis=1)"
   ]
  },
  {
   "cell_type": "code",
   "execution_count": 35,
   "metadata": {
    "collapsed": true
   },
   "outputs": [],
   "source": [
    "if(type(df_ml.date[0]) == str):\n",
    "    df_ml.date = pd.to_datetime(df_ml.date)"
   ]
  },
  {
   "cell_type": "code",
   "execution_count": 36,
   "metadata": {
    "collapsed": true
   },
   "outputs": [],
   "source": [
    "df_ml[\"month\"] = np.nan\n",
    "def addMonth(row):\n",
    "    row.month = row.date.month\n",
    "    return row"
   ]
  },
  {
   "cell_type": "code",
   "execution_count": 37,
   "metadata": {
    "collapsed": true
   },
   "outputs": [],
   "source": [
    "df_ml = df_ml.apply(addMonth, axis=1)"
   ]
  },
  {
   "cell_type": "code",
   "execution_count": 38,
   "metadata": {
    "collapsed": true
   },
   "outputs": [],
   "source": [
    "df_ml[\"day\"] = np.nan\n",
    "def addDay(row):\n",
    "    row.day = row.date.day\n",
    "    return row"
   ]
  },
  {
   "cell_type": "code",
   "execution_count": 39,
   "metadata": {
    "collapsed": true
   },
   "outputs": [],
   "source": [
    "df_ml = df_ml.apply(addDay, axis=1)"
   ]
  },
  {
   "cell_type": "code",
   "execution_count": 40,
   "metadata": {
    "collapsed": true
   },
   "outputs": [],
   "source": [
    "df_ml[\"year\"] = np.nan\n",
    "def addYear(row):\n",
    "    row.year = row.date.year\n",
    "    return row"
   ]
  },
  {
   "cell_type": "code",
   "execution_count": 41,
   "metadata": {
    "collapsed": true
   },
   "outputs": [],
   "source": [
    "df_ml = df_ml.apply(addYear, axis=1)"
   ]
  },
  {
   "cell_type": "code",
   "execution_count": 42,
   "metadata": {
    "collapsed": true
   },
   "outputs": [],
   "source": [
    "df_ml.date = df_ml.date.map(datetime.datetime.toordinal)"
   ]
  },
  {
   "cell_type": "code",
   "execution_count": 43,
   "metadata": {
    "collapsed": true
   },
   "outputs": [],
   "source": [
    "def makeDiscreet(row):\n",
    "    if(row.departure_delay<0):\n",
    "        row.departure_delay = 0 # = early or ontime\n",
    "    else: \n",
    "        if(row.departure_delay<5):\n",
    "            row.departure_delay = 1 #1 = 0 to 5 min late\n",
    "        else: \n",
    "            if(row.departure_delay<10):\n",
    "                row.departure_delay = 2 #2 = 5 to 10 min late\n",
    "            else:\n",
    "                row.departure_delay = 3 #3 = 10 min or more late\n",
    "    return row"
   ]
  },
  {
   "cell_type": "code",
   "execution_count": 44,
   "metadata": {
    "collapsed": true
   },
   "outputs": [],
   "source": [
    "df_ml = df_ml.apply(makeDiscreet, axis=1)"
   ]
  },
  {
   "cell_type": "code",
   "execution_count": 45,
   "metadata": {
    "collapsed": true
   },
   "outputs": [],
   "source": [
    "#df_ml_input = df_ml.loc[:,[\"date\",\"airline\",\"departure_airport\",\"departure_state\",\"arrival_airport\",\"arrival_state\",\"departure_schedule\", \"arrival_schedule\",\"flight_duration\",\"month\",\"departure_delay\"]]"
   ]
  },
  {
   "cell_type": "code",
   "execution_count": 46,
   "metadata": {
    "collapsed": true
   },
   "outputs": [],
   "source": [
    "df_ml_input = pd.get_dummies(df_ml, drop_first=True)"
   ]
  },
  {
   "cell_type": "code",
   "execution_count": 47,
   "metadata": {
    "collapsed": true
   },
   "outputs": [],
   "source": [
    "def doKNN(n_amount):\n",
    "    knn = KNeighborsClassifier(n_neighbors=n_amount)\n",
    "    x = df_ml_input.drop(\"departure_delay\",axis=1).values\n",
    "    y = df_ml_input.departure_delay.values\n",
    "    x_train, x_test, y_train, y_test = train_test_split(x,y,test_size = 0.3, random_state = 1)\n",
    "    knn.fit(x_train,y_train)\n",
    "    return knn.score(x_test,y_test)"
   ]
  },
  {
   "cell_type": "code",
   "execution_count": 48,
   "metadata": {},
   "outputs": [
    {
     "name": "stdout",
     "output_type": "stream",
     "text": [
      "62.53 % is predicted correctly with the 7 nearest neighbors algorithm\n"
     ]
    }
   ],
   "source": [
    "scoreArr = []\n",
    "for neighbors in range(1,21,2):\n",
    "    scoreArr.append(doKNN(neighbors))\n",
    "highestN = scoreArr.index(max(scoreArr)) * 2 + 1\n",
    "print(round(max(scoreArr)*100,2),\"%\", \"is predicted correctly with the\", highestN, \"nearest neighbors algorithm\")"
   ]
  }
 ],
 "metadata": {
  "kernelspec": {
   "display_name": "Python 3",
   "language": "python",
   "name": "python3"
  },
  "language_info": {
   "codemirror_mode": {
    "name": "ipython",
    "version": 3
   },
   "file_extension": ".py",
   "mimetype": "text/x-python",
   "name": "python",
   "nbconvert_exporter": "python",
   "pygments_lexer": "ipython3",
   "version": "3.6.2"
  }
 },
 "nbformat": 4,
 "nbformat_minor": 2
}
