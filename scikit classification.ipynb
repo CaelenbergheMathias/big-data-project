{
 "cells": [
  {
   "cell_type": "code",
   "execution_count": 4,
   "metadata": {
    "collapsed": true
   },
   "outputs": [],
   "source": [
    "import pandas as pd\n",
    "import sklearn as sk\n",
    "import numpy as np\n",
    "import matplotlib.pyplot as plt\n",
    "plt.style.use(\"ggplot\")\n",
    "import datetime\n",
    "import winsound"
   ]
  },
  {
   "cell_type": "code",
   "execution_count": 5,
   "metadata": {},
   "outputs": [
    {
     "name": "stderr",
     "output_type": "stream",
     "text": [
      "C:\\Users\\Matthias\\Anaconda3\\lib\\site-packages\\numpy\\lib\\arraysetops.py:463: FutureWarning: elementwise comparison failed; returning scalar instead, but in the future will perform elementwise comparison\n",
      "  mask |= (ar1 == a)\n"
     ]
    }
   ],
   "source": [
    "df = pd.read_csv('finalCleaning.gzip',compression='gzip',index_col=0)\n",
    "\n",
    "winsound.Beep(2000,300) # Beep when code is executed"
   ]
  },
  {
   "cell_type": "code",
   "execution_count": 309,
   "metadata": {
    "collapsed": true
   },
   "outputs": [],
   "source": [
    "def parseAsTime(row):\n",
    "    row.departure_schedule = datetime.datetime.strptime(row.departure_schedule,\"%H:%M:%S\").time()\n",
    "    row.departure_actual = datetime.datetime.strptime(row.departure_actual,\"%H:%M:%S\").time()\n",
    "    row.arrival_schedule = datetime.datetime.strptime(row.arrival_schedule,\"%H:%M:%S\").time()\n",
    "    row.arrival_actual = datetime.datetime.strptime(row.arrival_actual,\"%H:%M:%S\").time()\n",
    "    return row"
   ]
  },
  {
   "cell_type": "code",
   "execution_count": 310,
   "metadata": {},
   "outputs": [],
   "source": [
    "df_ml = df.loc[0:9999].apply(parseAsTime,axis=1)"
   ]
  },
  {
   "cell_type": "code",
   "execution_count": 311,
   "metadata": {
    "collapsed": true
   },
   "outputs": [],
   "source": [
    "df_ml[\"flight_duration\"] = np.nan\n",
    "def addFlightDuration(row):\n",
    "    now = datetime.datetime.now()\n",
    "    row.flight_duration = datetime.datetime.combine(now, row.arrival_schedule) - datetime.datetime.combine(datetime.date.min, row.departure_schedule)\n",
    "    row.flight_duration = (datetime.datetime.min + row.flight_duration).time()\n",
    "    return row"
   ]
  },
  {
   "cell_type": "code",
   "execution_count": 312,
   "metadata": {
    "collapsed": true
   },
   "outputs": [],
   "source": [
    "df_ml = df_ml.apply(addFlightDuration, axis=1)"
   ]
  },
  {
   "cell_type": "code",
   "execution_count": 313,
   "metadata": {
    "collapsed": true
   },
   "outputs": [],
   "source": [
    "def parseAsInt(row):\n",
    "    row.departure_schedule = row.departure_schedule.minute + (row.departure_schedule.hour*60)\n",
    "    row.arrival_schedule = row.arrival_schedule.minute + (row.arrival_schedule.hour*60)\n",
    "    row.flight_duration = row.flight_duration.minute + (row.flight_duration.hour*60)\n",
    "    return row"
   ]
  },
  {
   "cell_type": "code",
   "execution_count": 314,
   "metadata": {},
   "outputs": [],
   "source": [
    "df_ml = df_ml.apply(parseAsInt, axis=1)"
   ]
  },
  {
   "cell_type": "code",
   "execution_count": 315,
   "metadata": {},
   "outputs": [
    {
     "name": "stdout",
     "output_type": "stream",
     "text": [
      "<class 'str'>\n"
     ]
    }
   ],
   "source": [
    "print(type(df_ml.date[0]))\n",
    "if(type(df_ml.date[0]) == str):\n",
    "    df_ml.date = pd.to_datetime(df_ml.date)\n",
    "#    df_ml.date = df_ml.date.map(datetime.datetime.toordinal)"
   ]
  },
  {
   "cell_type": "code",
   "execution_count": 316,
   "metadata": {
    "collapsed": true
   },
   "outputs": [],
   "source": [
    "df_ml[\"month\"] = np.nan\n",
    "def addMonth(row):\n",
    "    row.month = row.date.month\n",
    "    return row"
   ]
  },
  {
   "cell_type": "code",
   "execution_count": 317,
   "metadata": {},
   "outputs": [],
   "source": [
    "df_ml = df_ml.apply(addMonth, axis=1)"
   ]
  },
  {
   "cell_type": "code",
   "execution_count": 318,
   "metadata": {},
   "outputs": [],
   "source": [
    "df_ml.date = df_ml.date.map(datetime.datetime.toordinal)"
   ]
  },
  {
   "cell_type": "code",
   "execution_count": 319,
   "metadata": {},
   "outputs": [],
   "source": [
    "def makeDiscreet(row):\n",
    "    if(row.departure_delay<0):\n",
    "        row.departure_delay = 0 # = early or ontime\n",
    "    else: \n",
    "        #if(row.departure_delay<10):\n",
    "            row.departure_delay = 1 #1 = 0 to 5 min late\n",
    "        #else: \n",
    "         #   if(row.departure_delay<10):\n",
    "          #      row.departure_delay = 2 #2 = 5 to 10 min late\n",
    "           # else:\n",
    "            #    row.departure_delay = 3 #3 = 10 min or more late\n",
    "    return row"
   ]
  },
  {
   "cell_type": "code",
   "execution_count": 320,
   "metadata": {
    "collapsed": true
   },
   "outputs": [],
   "source": [
    "df_ml = df_ml.apply(makeDiscreet, axis=1)"
   ]
  },
  {
   "cell_type": "code",
   "execution_count": 321,
   "metadata": {},
   "outputs": [],
   "source": [
    "from sklearn.neighbors import KNeighborsClassifier"
   ]
  },
  {
   "cell_type": "code",
   "execution_count": 322,
   "metadata": {
    "collapsed": true
   },
   "outputs": [],
   "source": [
    "df_ml = df_ml.loc[:,[\"date\",\"month\",\"departure_schedule\", \"arrival_schedule\",\"flight_duration\",\"departure_delay\"]]"
   ]
  },
  {
   "cell_type": "code",
   "execution_count": 323,
   "metadata": {},
   "outputs": [
    {
     "data": {
      "text/html": [
       "<div>\n",
       "<style>\n",
       "    .dataframe thead tr:only-child th {\n",
       "        text-align: right;\n",
       "    }\n",
       "\n",
       "    .dataframe thead th {\n",
       "        text-align: left;\n",
       "    }\n",
       "\n",
       "    .dataframe tbody tr th {\n",
       "        vertical-align: top;\n",
       "    }\n",
       "</style>\n",
       "<table border=\"1\" class=\"dataframe\">\n",
       "  <thead>\n",
       "    <tr style=\"text-align: right;\">\n",
       "      <th></th>\n",
       "      <th>date</th>\n",
       "      <th>month</th>\n",
       "      <th>departure_schedule</th>\n",
       "      <th>arrival_schedule</th>\n",
       "      <th>flight_duration</th>\n",
       "      <th>departure_delay</th>\n",
       "    </tr>\n",
       "  </thead>\n",
       "  <tbody>\n",
       "    <tr>\n",
       "      <th>0</th>\n",
       "      <td>734832</td>\n",
       "      <td>11</td>\n",
       "      <td>1075</td>\n",
       "      <td>1171</td>\n",
       "      <td>96</td>\n",
       "      <td>1</td>\n",
       "    </tr>\n",
       "    <tr>\n",
       "      <th>1</th>\n",
       "      <td>734836</td>\n",
       "      <td>11</td>\n",
       "      <td>1075</td>\n",
       "      <td>1171</td>\n",
       "      <td>96</td>\n",
       "      <td>0</td>\n",
       "    </tr>\n",
       "    <tr>\n",
       "      <th>2</th>\n",
       "      <td>734836</td>\n",
       "      <td>11</td>\n",
       "      <td>885</td>\n",
       "      <td>983</td>\n",
       "      <td>98</td>\n",
       "      <td>0</td>\n",
       "    </tr>\n",
       "    <tr>\n",
       "      <th>3</th>\n",
       "      <td>734836</td>\n",
       "      <td>11</td>\n",
       "      <td>1205</td>\n",
       "      <td>1300</td>\n",
       "      <td>95</td>\n",
       "      <td>1</td>\n",
       "    </tr>\n",
       "    <tr>\n",
       "      <th>4</th>\n",
       "      <td>734836</td>\n",
       "      <td>11</td>\n",
       "      <td>990</td>\n",
       "      <td>1088</td>\n",
       "      <td>98</td>\n",
       "      <td>0</td>\n",
       "    </tr>\n",
       "  </tbody>\n",
       "</table>\n",
       "</div>"
      ],
      "text/plain": [
       "     date  month  departure_schedule  arrival_schedule  flight_duration  \\\n",
       "0  734832     11                1075              1171               96   \n",
       "1  734836     11                1075              1171               96   \n",
       "2  734836     11                 885               983               98   \n",
       "3  734836     11                1205              1300               95   \n",
       "4  734836     11                 990              1088               98   \n",
       "\n",
       "   departure_delay  \n",
       "0                1  \n",
       "1                0  \n",
       "2                0  \n",
       "3                1  \n",
       "4                0  "
      ]
     },
     "execution_count": 323,
     "metadata": {},
     "output_type": "execute_result"
    }
   ],
   "source": [
    "df_ml.head()"
   ]
  },
  {
   "cell_type": "code",
   "execution_count": 324,
   "metadata": {},
   "outputs": [],
   "source": [
    "def doKNN(n_amount):\n",
    "    knn = KNeighborsClassifier(n_neighbors=n_amount)\n",
    "    x = df_ml.drop(\"departure_delay\",axis=1).values\n",
    "    y = df_ml.departure_delay.values\n",
    "    x_train, x_test, y_train, y_test = train_test_split(x,y,test_size = 0.3, random_state = 1)\n",
    "    knn.fit(x_train,y_train)\n",
    "    return knn.score(x_test,y_test)"
   ]
  },
  {
   "cell_type": "code",
   "execution_count": 325,
   "metadata": {},
   "outputs": [
    {
     "data": {
      "text/plain": [
       "0.5990766666666667"
      ]
     },
     "execution_count": 325,
     "metadata": {},
     "output_type": "execute_result"
    }
   ],
   "source": [
    "doKNN(35) # best neighbors"
   ]
  },
  {
   "cell_type": "code",
   "execution_count": 326,
   "metadata": {},
   "outputs": [
    {
     "name": "stdout",
     "output_type": "stream",
     "text": [
      "0.567906666667\n",
      "1\n",
      "0.577763333333\n",
      "3\n",
      "0.583886666667\n",
      "5\n",
      "0.586903333333\n",
      "7\n",
      "0.58829\n",
      "9\n",
      "0.590416666667\n",
      "11\n",
      "0.591476666667\n",
      "13\n",
      "0.593293333333\n",
      "15\n",
      "0.5943\n",
      "17\n",
      "0.595413333333\n",
      "19\n",
      "0.59588\n",
      "21\n",
      "0.596663333333\n",
      "23\n",
      "0.59679\n",
      "25\n",
      "0.597043333333\n",
      "27\n",
      "0.598226666667\n",
      "29\n",
      "0.598503333333\n",
      "31\n",
      "0.599076666667\n",
      "35\n",
      "0.599416666667\n",
      "37\n",
      "0.59982\n",
      "39\n",
      "0.60035\n",
      "41\n",
      "0.600923333333\n",
      "43\n",
      "0.6012\n",
      "45\n",
      "0.601246666667\n",
      "47\n",
      "0.60139\n",
      "49\n",
      "0.60153\n",
      "51\n",
      "0.601743333333\n",
      "63\n",
      "0.601886666667\n",
      "67\n",
      "0.602066666667\n",
      "73\n",
      "0.602503333333\n",
      "75\n",
      "0.60262\n",
      "77\n",
      "0.602666666667\n",
      "93\n",
      "0.60267\n",
      "95\n",
      "0.602833333333\n",
      "97\n",
      "0.602956666667\n",
      "99\n",
      "0.603113333333\n",
      "105\n",
      "0.60316\n",
      "107\n",
      "0.603253333333\n",
      "111\n"
     ]
    }
   ],
   "source": [
    "highest = 0;\n",
    "failCount = 0;\n",
    "for i in range(1,301,2):\n",
    "    score = doKNN(i)\n",
    "    if(score>highest):\n",
    "        highest = score\n",
    "        print(highest)\n",
    "        print(i)"
   ]
  },
  {
   "cell_type": "code",
   "execution_count": null,
   "metadata": {
    "collapsed": true
   },
   "outputs": [],
   "source": []
  }
 ],
 "metadata": {
  "kernelspec": {
   "display_name": "Python 3",
   "language": "python",
   "name": "python3"
  },
  "language_info": {
   "codemirror_mode": {
    "name": "ipython",
    "version": 3
   },
   "file_extension": ".py",
   "mimetype": "text/x-python",
   "name": "python",
   "nbconvert_exporter": "python",
   "pygments_lexer": "ipython3",
   "version": "3.6.2"
  }
 },
 "nbformat": 4,
 "nbformat_minor": 2
}
