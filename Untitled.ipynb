{
 "cells": [
  {
   "cell_type": "code",
   "execution_count": 2,
   "metadata": {},
   "outputs": [],
   "source": [
    "import pandas as pd\n",
    "import numpy as np\n",
    "import matplotlib.pyplot as plt\n",
    "set1 = pd.read_csv('flights_2010_000000000000.gzip',compression='gzip',parse_dates=True,index_col='date')\n",
    "\n",
    "set2 = pd.read_csv('flights_2010_000000000001.gzip',compression='gzip',parse_dates=True,index_col='date')\n",
    "\n",
    "set3 = pd.read_csv('flights_2010_000000000002.gzip',compression='gzip',parse_dates=True,index_col='date')\n",
    "\n",
    "set4 = pd.read_csv('flights_2010_000000000003.gzip',compression='gzip',parse_dates=True,index_col='date')\n",
    "\n",
    "set5 = pd.read_csv('flights_2010_000000000004.gzip',compression='gzip',parse_dates=True,index_col='date')\n",
    "\n",
    "set6 = pd.read_csv('flights_2010_000000000005.gzip',compression='gzip',parse_dates=True,index_col='date')\n"
   ]
  },
  {
   "cell_type": "code",
   "execution_count": 3,
   "metadata": {},
   "outputs": [],
   "source": [
    "combo = pd.concat([set1,set2,set3,set4,set5,set6])"
   ]
  },
  {
   "cell_type": "code",
   "execution_count": 4,
   "metadata": {},
   "outputs": [],
   "source": [
    "combo.to_csv('combo.gzip',compression='gzip')"
   ]
  },
  {
   "cell_type": "code",
   "execution_count": null,
   "metadata": {},
   "outputs": [],
   "source": []
  }
 ],
 "metadata": {
  "kernelspec": {
   "display_name": "Python 3",
   "language": "python",
   "name": "python3"
  },
  "language_info": {
   "codemirror_mode": {
    "name": "ipython",
    "version": 3
   },
   "file_extension": ".py",
   "mimetype": "text/x-python",
   "name": "python",
   "nbconvert_exporter": "python",
   "pygments_lexer": "ipython3",
   "version": "3.6.2"
  }
 },
 "nbformat": 4,
 "nbformat_minor": 2
}
