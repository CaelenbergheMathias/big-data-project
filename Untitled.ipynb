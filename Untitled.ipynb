{
 "cells": [
  {
   "cell_type": "code",
   "execution_count": 9,
   "metadata": {},
   "outputs": [],
   "source": [
    "import pandas as pd\n",
    "import numpy as np\n",
    "import matplotlib.pyplot as plt\n",
    "set1 = pd.read_csv('flights_2010_000000000000.gzip',compression='gzip',parse_dates=True,index_col='date')\n",
    "\n",
    "set2 = pd.read_csv('flights_2010_000000000001.gzip',compression='gzip',parse_dates=True,index_col='date')\n",
    "\n",
    "set3 = pd.read_csv('flights_2010_000000000002.gzip',compression='gzip',parse_dates=True,index_col='date')\n",
    "\n",
    "set4 = pd.read_csv('flights_2010_000000000003.gzip',compression='gzip',parse_dates=True,index_col='date')\n",
    "\n",
    "set5 = pd.read_csv('flights_2010_000000000004.gzip',compression='gzip',parse_dates=True,index_col='date')\n",
    "\n",
    "set6 = pd.read_csv('flights_2010_000000000005.gzip',compression='gzip',parse_dates=True,index_col='date')\n"
   ]
  },
  {
   "cell_type": "code",
   "execution_count": 3,
   "metadata": {},
   "outputs": [],
   "source": [
    "combo = pd.concat([set1,set2,set3,set4,set5,set6])"
   ]
  },
  {
   "cell_type": "code",
   "execution_count": 8,
   "metadata": {},
   "outputs": [
    {
     "name": "stdout",
     "output_type": "stream",
     "text": [
      "       airline_code  departure_lat  departure_lon   arrival_lat   arrival_lon  \\\n",
      "count  1.140120e+07   1.140120e+07   1.140120e+07  1.140120e+07  1.140120e+07   \n",
      "mean   2.000838e+04   3.654122e+01  -9.568254e+01  3.654188e+01 -9.568567e+01   \n",
      "std    3.908364e+02   5.861703e+00   1.819913e+01  5.861862e+00  1.820281e+01   \n",
      "min    1.939300e+04   1.348000e+01  -1.766400e+02  1.348000e+01 -1.766400e+02   \n",
      "25%    1.979000e+04   3.343000e+01  -1.119700e+02  3.343000e+01 -1.119700e+02   \n",
      "50%    1.997700e+04   3.619000e+01  -9.025000e+01  3.619000e+01 -9.025000e+01   \n",
      "75%    2.036600e+04   4.077000e+01  -8.159000e+01  4.077000e+01 -8.159000e+01   \n",
      "max    2.117100e+04   7.128000e+01  -6.480000e+01  7.128000e+01 -6.480000e+01   \n",
      "\n",
      "       departure_schedule  departure_actual  departure_delay  \\\n",
      "count        1.140120e+07      1.140120e+07     1.140120e+07   \n",
      "mean         1.328240e+03      1.334701e+03     8.126546e+00   \n",
      "std          4.693523e+02      4.810946e+02     3.310669e+01   \n",
      "min          1.000000e+00      1.000000e+00    -2.260000e+02   \n",
      "25%          9.250000e+02      9.280000e+02    -5.000000e+00   \n",
      "50%          1.320000e+03      1.327000e+03    -2.000000e+00   \n",
      "75%          1.722000e+03      1.732000e+03     6.000000e+00   \n",
      "max          2.359000e+03      2.400000e+03     1.831000e+03   \n",
      "\n",
      "       arrival_schedule  arrival_actual  arrival_delay  \n",
      "count      1.140119e+07    1.140120e+07   1.140120e+07  \n",
      "mean       1.498502e+03    1.483401e+03   3.944555e+00  \n",
      "std        4.883501e+02    5.068915e+02   3.563107e+01  \n",
      "min        1.000000e+00    1.000000e+00  -4.110000e+02  \n",
      "25%        1.116000e+03    1.107000e+03  -1.200000e+01  \n",
      "50%        1.520000e+03    1.515000e+03  -4.000000e+00  \n",
      "75%        1.910000e+03    1.910000e+03   7.000000e+00  \n",
      "max        2.400000e+03    2.400000e+03   1.823000e+03  \n"
     ]
    }
   ],
   "source": [
    "print(combo.describe())"
   ]
  },
  {
   "cell_type": "code",
   "execution_count": null,
   "metadata": {},
   "outputs": [],
   "source": []
  }
 ],
 "metadata": {
  "kernelspec": {
   "display_name": "Python 3",
   "language": "python",
   "name": "python3"
  },
  "language_info": {
   "codemirror_mode": {
    "name": "ipython",
    "version": 3
   },
   "file_extension": ".py",
   "mimetype": "text/x-python",
   "name": "python",
   "nbconvert_exporter": "python",
   "pygments_lexer": "ipython3",
   "version": "3.6.2"
  }
 },
 "nbformat": 4,
 "nbformat_minor": 2
}
